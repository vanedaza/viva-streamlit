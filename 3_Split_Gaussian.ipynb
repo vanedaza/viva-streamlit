{
 "cells": [
  {
   "cell_type": "markdown",
   "metadata": {},
   "source": [
    "### Spectra"
   ]
  },
  {
   "cell_type": "code",
   "execution_count": null,
   "metadata": {},
   "outputs": [
    {
     "name": "stdout",
     "output_type": "stream",
     "text": [
      "(34000, 4097)\n"
     ]
    }
   ],
   "source": [
    "import os\n",
    "import re\n",
    "\n",
    "\n",
    "'''We create a list with the files names with form *.txt in the folder data_34000_19032025.\n",
    "'''\n",
    "folder_path = 'TABLES/mytd_gaussian/'\n",
    "\n",
    "# List all .txt files in the folder, \n",
    "#endswith: this fuction to verifica if a str finishes in a subfix\n",
    "all_filenames = [f for f in os.listdir(folder_path) if f.endswith(\".txt\")]\n",
    "\n",
    "dfs = []  # lista temporal\n",
    "\n",
    "# Create master DataFrame\n",
    "for i in all_filenames:\n",
    "    df = pd.read_csv('TABLES/mytd_gaussian/'+str(i), names=['energy', 'counts'], header=None, sep=\"\\s+\")\n",
    "    df_T = pd.DataFrame(df['counts']).T\n",
    "    \n",
    "    # Expresión regular para encontrar el número después de 'ID'\n",
    "    match = re.search(r'ID-(\\d+)', str(i))\n",
    "    if match:\n",
    "        id_source = match.group(1)\n",
    "        \n",
    "    df_T['id_source'] = id_source\n",
    "    \n",
    "    dfs.append(df_T)\n",
    "\n",
    "# counts + energy\n",
    "df_master = pd.concat(dfs, ignore_index=True)\n",
    "\n",
    "print(df_master.shape)"
   ]
  },
  {
   "cell_type": "code",
   "execution_count": 4,
   "metadata": {},
   "outputs": [
    {
     "data": {
      "text/html": [
       "<div>\n",
       "<style scoped>\n",
       "    .dataframe tbody tr th:only-of-type {\n",
       "        vertical-align: middle;\n",
       "    }\n",
       "\n",
       "    .dataframe tbody tr th {\n",
       "        vertical-align: top;\n",
       "    }\n",
       "\n",
       "    .dataframe thead th {\n",
       "        text-align: right;\n",
       "    }\n",
       "</style>\n",
       "<table border=\"1\" class=\"dataframe\">\n",
       "  <thead>\n",
       "    <tr style=\"text-align: right;\">\n",
       "      <th></th>\n",
       "      <th>0</th>\n",
       "      <th>1</th>\n",
       "      <th>2</th>\n",
       "      <th>3</th>\n",
       "      <th>4</th>\n",
       "      <th>5</th>\n",
       "      <th>6</th>\n",
       "      <th>7</th>\n",
       "      <th>8</th>\n",
       "      <th>9</th>\n",
       "      <th>...</th>\n",
       "      <th>4087</th>\n",
       "      <th>4088</th>\n",
       "      <th>4089</th>\n",
       "      <th>4090</th>\n",
       "      <th>4091</th>\n",
       "      <th>4092</th>\n",
       "      <th>4093</th>\n",
       "      <th>4094</th>\n",
       "      <th>4095</th>\n",
       "      <th>id_source</th>\n",
       "    </tr>\n",
       "  </thead>\n",
       "  <tbody>\n",
       "    <tr>\n",
       "      <th>33997</th>\n",
       "      <td>0.0</td>\n",
       "      <td>0.0</td>\n",
       "      <td>0.0</td>\n",
       "      <td>0.0</td>\n",
       "      <td>0.0</td>\n",
       "      <td>24.999948</td>\n",
       "      <td>0.000000</td>\n",
       "      <td>100.000099</td>\n",
       "      <td>149.999695</td>\n",
       "      <td>100.000099</td>\n",
       "      <td>...</td>\n",
       "      <td>0.0</td>\n",
       "      <td>0.0</td>\n",
       "      <td>0.0</td>\n",
       "      <td>0.0</td>\n",
       "      <td>0.0</td>\n",
       "      <td>0.0</td>\n",
       "      <td>0.0</td>\n",
       "      <td>0.0</td>\n",
       "      <td>0.0</td>\n",
       "      <td>16401</td>\n",
       "    </tr>\n",
       "    <tr>\n",
       "      <th>33998</th>\n",
       "      <td>0.0</td>\n",
       "      <td>0.0</td>\n",
       "      <td>0.0</td>\n",
       "      <td>0.0</td>\n",
       "      <td>0.0</td>\n",
       "      <td>0.000000</td>\n",
       "      <td>25.000025</td>\n",
       "      <td>25.000025</td>\n",
       "      <td>99.999794</td>\n",
       "      <td>50.000050</td>\n",
       "      <td>...</td>\n",
       "      <td>0.0</td>\n",
       "      <td>0.0</td>\n",
       "      <td>0.0</td>\n",
       "      <td>0.0</td>\n",
       "      <td>0.0</td>\n",
       "      <td>0.0</td>\n",
       "      <td>0.0</td>\n",
       "      <td>0.0</td>\n",
       "      <td>0.0</td>\n",
       "      <td>16873</td>\n",
       "    </tr>\n",
       "    <tr>\n",
       "      <th>33999</th>\n",
       "      <td>0.0</td>\n",
       "      <td>0.0</td>\n",
       "      <td>0.0</td>\n",
       "      <td>0.0</td>\n",
       "      <td>0.0</td>\n",
       "      <td>0.000000</td>\n",
       "      <td>0.000000</td>\n",
       "      <td>0.000000</td>\n",
       "      <td>0.000000</td>\n",
       "      <td>25.000025</td>\n",
       "      <td>...</td>\n",
       "      <td>0.0</td>\n",
       "      <td>0.0</td>\n",
       "      <td>0.0</td>\n",
       "      <td>0.0</td>\n",
       "      <td>0.0</td>\n",
       "      <td>0.0</td>\n",
       "      <td>0.0</td>\n",
       "      <td>0.0</td>\n",
       "      <td>0.0</td>\n",
       "      <td>21448</td>\n",
       "    </tr>\n",
       "  </tbody>\n",
       "</table>\n",
       "<p>3 rows × 4097 columns</p>\n",
       "</div>"
      ],
      "text/plain": [
       "         0    1    2    3    4          5          6           7           8  \\\n",
       "33997  0.0  0.0  0.0  0.0  0.0  24.999948   0.000000  100.000099  149.999695   \n",
       "33998  0.0  0.0  0.0  0.0  0.0   0.000000  25.000025   25.000025   99.999794   \n",
       "33999  0.0  0.0  0.0  0.0  0.0   0.000000   0.000000    0.000000    0.000000   \n",
       "\n",
       "                9  ...  4087  4088  4089  4090  4091  4092  4093  4094  4095  \\\n",
       "33997  100.000099  ...   0.0   0.0   0.0   0.0   0.0   0.0   0.0   0.0   0.0   \n",
       "33998   50.000050  ...   0.0   0.0   0.0   0.0   0.0   0.0   0.0   0.0   0.0   \n",
       "33999   25.000025  ...   0.0   0.0   0.0   0.0   0.0   0.0   0.0   0.0   0.0   \n",
       "\n",
       "       id_source  \n",
       "33997      16401  \n",
       "33998      16873  \n",
       "33999      21448  \n",
       "\n",
       "[3 rows x 4097 columns]"
      ]
     },
     "execution_count": 4,
     "metadata": {},
     "output_type": "execute_result"
    }
   ],
   "source": [
    "'''The first row is the energy.\n",
    "'''\n",
    "\n",
    "df_master.tail(3)"
   ]
  },
  {
   "cell_type": "markdown",
   "metadata": {},
   "source": [
    "### Physical parameters + exp_time and PL"
   ]
  },
  {
   "cell_type": "code",
   "execution_count": 5,
   "metadata": {
    "colab": {
     "base_uri": "https://localhost:8080/",
     "height": 391
    },
    "executionInfo": {
     "elapsed": 1289,
     "status": "ok",
     "timestamp": 1740509251407,
     "user": {
      "displayName": "INGRID VANESSA DAZA PERILLA",
      "userId": "08604106606479224995"
     },
     "user_tz": 300
    },
    "id": "KknK11zA7GdN",
    "outputId": "afdde998-9d7c-4bdc-c6b0-5724e201efc7"
   },
   "outputs": [],
   "source": [
    "Target = pd.read_csv(path_data+\"parameter_gaussian_grid_all_34_BetterPresicion_Z_Nhg.txt\", sep=\"\\t\")\n",
    "Target.rename(columns={Target.columns[0]: 'id_source'}, inplace=True)"
   ]
  },
  {
   "cell_type": "markdown",
   "metadata": {},
   "source": [
    "### Concat"
   ]
  },
  {
   "cell_type": "code",
   "execution_count": 6,
   "metadata": {},
   "outputs": [
    {
     "name": "stdout",
     "output_type": "stream",
     "text": [
      "set()\n",
      "set()\n"
     ]
    },
    {
     "name": "stderr",
     "output_type": "stream",
     "text": [
      "/tmp/ipykernel_341672/238049487.py:15: FutureWarning: Setting an item of incompatible dtype is deprecated and will raise an error in a future version of pandas. Value '[0.874 0.808 0.771 ... 0.671 0.735 0.799]' has dtype incompatible with int64, please explicitly cast to a compatible dtype first.\n",
      "  df_master.loc[id_source, Target.columns] = Target.loc[id_source, Target.columns]\n",
      "/tmp/ipykernel_341672/238049487.py:15: FutureWarning: Setting an item of incompatible dtype is deprecated and will raise an error in a future version of pandas. Value '[0.663 0.696 0.685 ... 0.237 0.182 0.33 ]' has dtype incompatible with int64, please explicitly cast to a compatible dtype first.\n",
      "  df_master.loc[id_source, Target.columns] = Target.loc[id_source, Target.columns]\n",
      "/tmp/ipykernel_341672/238049487.py:15: FutureWarning: Setting an item of incompatible dtype is deprecated and will raise an error in a future version of pandas. Value '[1.57 1.52 1.49 ... 1.61 1.69 1.59]' has dtype incompatible with int64, please explicitly cast to a compatible dtype first.\n",
      "  df_master.loc[id_source, Target.columns] = Target.loc[id_source, Target.columns]\n",
      "/tmp/ipykernel_341672/238049487.py:15: FutureWarning: Setting an item of incompatible dtype is deprecated and will raise an error in a future version of pandas. Value '[0.44 0.11 0.11 ... 0.8  0.61 0.73]' has dtype incompatible with int64, please explicitly cast to a compatible dtype first.\n",
      "  df_master.loc[id_source, Target.columns] = Target.loc[id_source, Target.columns]\n",
      "/tmp/ipykernel_341672/238049487.py:15: FutureWarning: Setting an item of incompatible dtype is deprecated and will raise an error in a future version of pandas. Value '[ 31994.38  34852.5   42198.27 ... 101091.99 100861.56  91752.01]' has dtype incompatible with int64, please explicitly cast to a compatible dtype first.\n",
      "  df_master.loc[id_source, Target.columns] = Target.loc[id_source, Target.columns]\n",
      "/tmp/ipykernel_341672/238049487.py:15: FutureWarning: Setting an item of incompatible dtype is deprecated and will raise an error in a future version of pandas. Value '[0.005  0.0036 0.005  ... 0.0204 0.0211 0.0192]' has dtype incompatible with int64, please explicitly cast to a compatible dtype first.\n",
      "  df_master.loc[id_source, Target.columns] = Target.loc[id_source, Target.columns]\n",
      "/tmp/ipykernel_341672/238049487.py:15: FutureWarning: Setting an item of incompatible dtype is deprecated and will raise an error in a future version of pandas. Value '[0.0351 0.0243 0.0301 ... 0.0137 0.0138 0.0137]' has dtype incompatible with int64, please explicitly cast to a compatible dtype first.\n",
      "  df_master.loc[id_source, Target.columns] = Target.loc[id_source, Target.columns]\n",
      "/tmp/ipykernel_341672/238049487.py:15: FutureWarning: Setting an item of incompatible dtype is deprecated and will raise an error in a future version of pandas. Value '[2.09815121e+20 1.44293447e+20 1.01795952e+20 ... 3.83402724e+20\n",
      " 2.99944744e+20 3.80957462e+20]' has dtype incompatible with int64, please explicitly cast to a compatible dtype first.\n",
      "  df_master.loc[id_source, Target.columns] = Target.loc[id_source, Target.columns]\n"
     ]
    },
    {
     "data": {
      "text/plain": [
       "(34000, 4104)"
      ]
     },
     "metadata": {},
     "output_type": "display_data"
    }
   ],
   "source": [
    "df_master['id_source'] = df_master['id_source'].astype(int)\n",
    "\n",
    "df_master = df_master.sort_values(by='id_source')\n",
    "Target = Target.sort_values(by='id_source')\n",
    "\n",
    "id_source = df_master.id_source.values\n",
    "\n",
    "df_master = df_master.set_index('id_source')\n",
    "Target = Target.set_index('id_source')\n",
    "\n",
    "print(set(id_source) - set(df_master.index))\n",
    "print(set(id_source) - set(Target.index))\n",
    "\n",
    "df_master[Target.columns] = 0\n",
    "df_master.loc[id_source, Target.columns] = Target.loc[id_source, Target.columns]\n",
    "display(df_master.shape)"
   ]
  },
  {
   "cell_type": "markdown",
   "metadata": {},
   "source": [
    "### Split"
   ]
  },
  {
   "cell_type": "code",
   "execution_count": 7,
   "metadata": {},
   "outputs": [],
   "source": [
    "df_master = df_master.reset_index()"
   ]
  },
  {
   "cell_type": "code",
   "execution_count": 8,
   "metadata": {},
   "outputs": [
    {
     "name": "stdout",
     "output_type": "stream",
     "text": [
      "X: (34000, 4101) y: (34000, 5)\n",
      "Tamaño del conjunto de entrenamiento: (19040, 4101)\n",
      "Size of the validation set: (4760, 4101)\n",
      "Tamaño del conjunto de prueba: (10200, 4101)\n"
     ]
    }
   ],
   "source": [
    "PP = ['N_H_Z','N_H_S','Gamma','A_S']\n",
    "\n",
    "X = df_master.drop(columns=PP).copy()\n",
    "y = df_master[PP+['id_source']]\n",
    "\n",
    "print('X:', X.shape, 'y:', y.shape)\n",
    "\n",
    "# Split the total data in 70% training set and 30% test set\n",
    "X_train, X_test, y_train, y_test = train_test_split(X, y, test_size=0.3, random_state=42)\n",
    "# Split the total data in 80% training set and 20% test set\n",
    "X_train, X_val, y_train, y_val = train_test_split(X_train, y_train, test_size=0.2, random_state=42)\n",
    "\n",
    "print(f'Tamaño del conjunto de entrenamiento: {X_train.shape}')\n",
    "print(f'Size of the validation set: {X_val.shape}')\n",
    "print(f'Tamaño del conjunto de prueba: {X_test.shape}')\n"
   ]
  },
  {
   "cell_type": "markdown",
   "metadata": {},
   "source": [
    "**Two approaches:**\n",
    "\n",
    "    1) Features: counts in 2 to 50 KeV\n",
    "    2) Features: counts in 2 to 50 KeV + exp_time and PL_norm\n",
    "    3) Featres: counts in 3 to 30 KeV\n",
    "    4) Featres: counts in 3 to 30 KeV  + exp_time and PL_norm\n",
    "    5) Featres: counts in 3 to 30 KeV  + exp_time\n",
    "    6) Features: counts in 3 to 30 KeV + exp_time + z + NH_Gal"
   ]
  },
  {
   "cell_type": "code",
   "execution_count": 9,
   "metadata": {},
   "outputs": [],
   "source": [
    "energy = pd.read_csv('TABLES/mytd_gaussian/'+all_filenames[1], names=['energy', 'counts'], header=None, sep=\"\\s+\")\n",
    "energy = pd.DataFrame(energy['energy']).T"
   ]
  },
  {
   "cell_type": "code",
   "execution_count": 10,
   "metadata": {},
   "outputs": [
    {
     "data": {
      "text/html": [
       "<div>\n",
       "<style scoped>\n",
       "    .dataframe tbody tr th:only-of-type {\n",
       "        vertical-align: middle;\n",
       "    }\n",
       "\n",
       "    .dataframe tbody tr th {\n",
       "        vertical-align: top;\n",
       "    }\n",
       "\n",
       "    .dataframe thead th {\n",
       "        text-align: right;\n",
       "    }\n",
       "</style>\n",
       "<table border=\"1\" class=\"dataframe\">\n",
       "  <thead>\n",
       "    <tr style=\"text-align: right;\">\n",
       "      <th></th>\n",
       "      <th>0</th>\n",
       "      <th>1</th>\n",
       "      <th>2</th>\n",
       "      <th>3</th>\n",
       "      <th>4</th>\n",
       "      <th>5</th>\n",
       "      <th>6</th>\n",
       "      <th>7</th>\n",
       "      <th>8</th>\n",
       "      <th>9</th>\n",
       "      <th>...</th>\n",
       "      <th>4086</th>\n",
       "      <th>4087</th>\n",
       "      <th>4088</th>\n",
       "      <th>4089</th>\n",
       "      <th>4090</th>\n",
       "      <th>4091</th>\n",
       "      <th>4092</th>\n",
       "      <th>4093</th>\n",
       "      <th>4094</th>\n",
       "      <th>4095</th>\n",
       "    </tr>\n",
       "  </thead>\n",
       "  <tbody>\n",
       "    <tr>\n",
       "      <th>energy</th>\n",
       "      <td>1.62</td>\n",
       "      <td>1.66</td>\n",
       "      <td>1.7</td>\n",
       "      <td>1.74</td>\n",
       "      <td>1.78</td>\n",
       "      <td>1.82</td>\n",
       "      <td>1.86</td>\n",
       "      <td>1.9</td>\n",
       "      <td>1.94</td>\n",
       "      <td>1.98</td>\n",
       "      <td>...</td>\n",
       "      <td>165.059998</td>\n",
       "      <td>165.100006</td>\n",
       "      <td>165.139999</td>\n",
       "      <td>165.179993</td>\n",
       "      <td>165.220001</td>\n",
       "      <td>165.26001</td>\n",
       "      <td>165.300003</td>\n",
       "      <td>165.339996</td>\n",
       "      <td>165.380005</td>\n",
       "      <td>165.419998</td>\n",
       "    </tr>\n",
       "  </tbody>\n",
       "</table>\n",
       "<p>1 rows × 4096 columns</p>\n",
       "</div>"
      ],
      "text/plain": [
       "        0     1     2     3     4     5     6     7     8     9     ...  \\\n",
       "energy  1.62  1.66   1.7  1.74  1.78  1.82  1.86   1.9  1.94  1.98  ...   \n",
       "\n",
       "              4086        4087        4088        4089        4090       4091  \\\n",
       "energy  165.059998  165.100006  165.139999  165.179993  165.220001  165.26001   \n",
       "\n",
       "              4092        4093        4094        4095  \n",
       "energy  165.300003  165.339996  165.380005  165.419998  \n",
       "\n",
       "[1 rows x 4096 columns]"
      ]
     },
     "execution_count": 10,
     "metadata": {},
     "output_type": "execute_result"
    }
   ],
   "source": [
    "energy"
   ]
  },
  {
   "cell_type": "markdown",
   "metadata": {},
   "source": [
    "**1) Features: counts**"
   ]
  },
  {
   "cell_type": "raw",
   "metadata": {
    "colab": {
     "base_uri": "https://localhost:8080/"
    },
    "executionInfo": {
     "elapsed": 24,
     "status": "ok",
     "timestamp": 1740509251450,
     "user": {
      "displayName": "INGRID VANESSA DAZA PERILLA",
      "userId": "08604106606479224995"
     },
     "user_tz": 300
    },
    "id": "tiLL0Q3H66Qg",
    "outputId": "5f0378c4-a9f9-4c61-c19e-b832683a5049"
   },
   "source": [
    "app_1 = energy.loc[:, (energy.iloc[0]>=2) & (energy.iloc[0]<70)]\n",
    "counts = app_1.columns.values\n",
    "\n",
    "features = list(counts) +['id_source']\n",
    "\n",
    "DFX_train = pd.DataFrame(X_train)[features]  \n",
    "DFX_val = pd.DataFrame(X_val)[features]\n",
    "DFX_test = pd.DataFrame(X_test)[features]\n",
    "\n",
    "path_app1 = path_data + 'APP_1/'\n",
    "DFX_train.to_csv(path_app1 + \"X_train.csv\", index=False)\n",
    "DFX_val.to_csv(path_app1 + \"X_val.csv\", index=False)\n",
    "DFX_test.to_csv(path_app1 + \"X_test.csv\", index=False)\n",
    "\n",
    "y_train.to_csv(path_app1+\"y_train.csv\", index=False)\n",
    "y_val.to_csv(path_app1+\"y_val.csv\", index=False)\n",
    "y_test.to_csv(path_app1+\"y_test.csv\", index=False)"
   ]
  },
  {
   "cell_type": "markdown",
   "metadata": {
    "executionInfo": {
     "elapsed": 954,
     "status": "ok",
     "timestamp": 1740509253643,
     "user": {
      "displayName": "INGRID VANESSA DAZA PERILLA",
      "userId": "08604106606479224995"
     },
     "user_tz": 300
    },
    "id": "iv4oI4uzBU0e"
   },
   "source": [
    "**2) Features: counts + exp_time and PL**"
   ]
  },
  {
   "cell_type": "raw",
   "metadata": {},
   "source": [
    "app_2 = energy.loc[:, (energy.iloc[0]>=2) & (energy.iloc[0]<70)]\n",
    "counts = app_2.columns.values\n",
    "\n",
    "features = list(counts) +['DOUBLE_EXP_TIME_(s)', 'PL_NORM', 'id_source']\n",
    "\n",
    "DFX_train = pd.DataFrame(X_train)[features]  \n",
    "DFX_val = pd.DataFrame(X_val)[features]\n",
    "DFX_test = pd.DataFrame(X_test)[features]\n",
    "\n",
    "path_app2 = path_data + 'APP_2/'\n",
    "DFX_train.to_csv(path_app2 + \"X_train.csv\", index=False)\n",
    "DFX_val.to_csv(path_app2 + \"X_val.csv\", index=False)\n",
    "DFX_test.to_csv(path_app2 + \"X_test.csv\", index=False)\n",
    "\n",
    "y_train.to_csv(path_app2+\"y_train.csv\", index=False)\n",
    "y_val.to_csv(path_app2+\"y_val.csv\", index=False)\n",
    "y_test.to_csv(path_app2+\"y_test.csv\", index=False)"
   ]
  },
  {
   "cell_type": "markdown",
   "metadata": {},
   "source": [
    "**3) Features: counts 3 to 30 KeV**"
   ]
  },
  {
   "cell_type": "raw",
   "metadata": {},
   "source": [
    "app_3 = energy.loc[:, (energy.iloc[0]>=3) & (energy.iloc[0]<30)]\n",
    "counts = app_3.columns.values\n",
    "\n",
    "features = list(counts) +['id_source']\n",
    "\n",
    "DFX_train = pd.DataFrame(X_train)[features]  \n",
    "DFX_val = pd.DataFrame(X_val)[features]\n",
    "DFX_test = pd.DataFrame(X_test)[features]\n",
    "\n",
    "path_app1 = path_data + 'APP_3/'\n",
    "DFX_train.to_csv(path_app1 + \"X_train.csv\", index=False)\n",
    "DFX_val.to_csv(path_app1 + \"X_val.csv\", index=False)\n",
    "DFX_test.to_csv(path_app1 + \"X_test.csv\", index=False)\n",
    "\n",
    "y_train.to_csv(path_app1+\"y_train.csv\", index=False)\n",
    "y_val.to_csv(path_app1+\"y_val.csv\", index=False)\n",
    "y_test.to_csv(path_app1+\"y_test.csv\", index=False)"
   ]
  },
  {
   "cell_type": "markdown",
   "metadata": {},
   "source": [
    "**4) Features: counts 3 to 30 KeV + EXP TIME AND PLL_NORM**"
   ]
  },
  {
   "cell_type": "raw",
   "metadata": {},
   "source": [
    "app_4 = energy.loc[:, (energy.iloc[0]>=3) & (energy.iloc[0]<30)]\n",
    "counts = app_4.columns.values\n",
    "\n",
    "features = list(counts) +['DOUBLE_EXP_TIME_(s)', 'PL_NORM', 'id_source']\n",
    "\n",
    "DFX_train = pd.DataFrame(X_train)[features]  \n",
    "DFX_val = pd.DataFrame(X_val)[features]\n",
    "DFX_test = pd.DataFrame(X_test)[features]\n",
    "\n",
    "path_app1 = path_data + 'APP_4/'\n",
    "DFX_train.to_csv(path_app1 + \"X_train.csv\", index=False)\n",
    "DFX_val.to_csv(path_app1 + \"X_val.csv\", index=False)\n",
    "DFX_test.to_csv(path_app1 + \"X_test.csv\", index=False)\n",
    "\n",
    "y_train.to_csv(path_app1+\"y_train.csv\", index=False)\n",
    "y_val.to_csv(path_app1+\"y_val.csv\", index=False)\n",
    "y_test.to_csv(path_app1+\"y_test.csv\", index=False)"
   ]
  },
  {
   "cell_type": "markdown",
   "metadata": {},
   "source": [
    "**5) Features: counts 3 to 30 KeV + EXP TIME**"
   ]
  },
  {
   "cell_type": "raw",
   "metadata": {},
   "source": [
    "app_4 = energy.loc[:, (energy.iloc[0]>=3) & (energy.iloc[0]<30)]\n",
    "counts = app_4.columns.values\n",
    "\n",
    "features = list(counts) +['DOUBLE_EXP_TIME_(s)', 'id_source']\n",
    "\n",
    "DFX_train = pd.DataFrame(X_train)[features]  \n",
    "DFX_val = pd.DataFrame(X_val)[features]\n",
    "DFX_test = pd.DataFrame(X_test)[features]\n",
    "\n",
    "path_app1 = path_data + 'APP_5_mytd_Gaussian/'\n",
    "DFX_train.to_csv(path_app1 + \"X_train.csv\", index=False)\n",
    "DFX_val.to_csv(path_app1 + \"X_val.csv\", index=False)\n",
    "DFX_test.to_csv(path_app1 + \"X_test.csv\", index=False)\n",
    "\n",
    "y_train.to_csv(path_app1+\"y_train.csv\", index=False)\n",
    "y_val.to_csv(path_app1+\"y_val.csv\", index=False)\n",
    "y_test.to_csv(path_app1+\"y_test.csv\", index=False)"
   ]
  },
  {
   "cell_type": "markdown",
   "metadata": {},
   "source": [
    "**6) Features: counts in 3 to 30 KeV + exp_time + z + NH_Gal**"
   ]
  },
  {
   "cell_type": "code",
   "execution_count": 11,
   "metadata": {},
   "outputs": [],
   "source": [
    "app_4 = energy.loc[:, (energy.iloc[0]>=3) & (energy.iloc[0]<30)]\n",
    "counts = app_4.columns.values\n",
    "\n",
    "features = list(counts) +['DOUBLE_EXP_TIME_(s)', 'z', 'nH_G', 'id_source']\n",
    "\n",
    "DFX_train = pd.DataFrame(X_train)[features]  \n",
    "DFX_val = pd.DataFrame(X_val)[features]\n",
    "DFX_test = pd.DataFrame(X_test)[features]\n",
    "\n",
    "path_app1 = path_data + 'APP_6_mytd_gau/'\n",
    "DFX_train.to_csv(path_app1 + \"X_train.csv\", index=False)\n",
    "DFX_val.to_csv(path_app1 + \"X_val.csv\", index=False)\n",
    "DFX_test.to_csv(path_app1 + \"X_test.csv\", index=False)\n",
    "\n",
    "y_train.to_csv(path_app1+\"y_train.csv\", index=False)\n",
    "y_val.to_csv(path_app1+\"y_val.csv\", index=False)\n",
    "y_test.to_csv(path_app1+\"y_test.csv\", index=False)"
   ]
  },
  {
   "cell_type": "code",
   "execution_count": 12,
   "metadata": {},
   "outputs": [
    {
     "data": {
      "text/plain": [
       "(19040, 679)"
      ]
     },
     "metadata": {},
     "output_type": "display_data"
    },
    {
     "data": {
      "text/plain": [
       "(4760, 679)"
      ]
     },
     "metadata": {},
     "output_type": "display_data"
    },
    {
     "data": {
      "text/plain": [
       "(10200, 679)"
      ]
     },
     "metadata": {},
     "output_type": "display_data"
    }
   ],
   "source": [
    "display(DFX_train.shape)\n",
    "display(DFX_val.shape)\n",
    "display(DFX_test.shape)"
   ]
  },
  {
   "cell_type": "code",
   "execution_count": null,
   "metadata": {},
   "outputs": [],
   "source": []
  }
 ],
 "metadata": {
  "colab": {
   "authorship_tag": "ABX9TyMedtznRxdxHIVXlKszfXN7",
   "mount_file_id": "10mb2eVcnRUL1yU_EMUpMzNRzYPMoHXak",
   "provenance": []
  },
  "kernelspec": {
   "display_name": "Python 3 (ipykernel)",
   "language": "python",
   "name": "python3"
  },
  "language_info": {
   "codemirror_mode": {
    "name": "ipython",
    "version": 3
   },
   "file_extension": ".py",
   "mimetype": "text/x-python",
   "name": "python",
   "nbconvert_exporter": "python",
   "pygments_lexer": "ipython3",
   "version": "3.8.3"
  }
 },
 "nbformat": 4,
 "nbformat_minor": 4
}
